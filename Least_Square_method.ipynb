{
  "cells": [
    {
      "cell_type": "markdown",
      "metadata": {
        "id": "view-in-github",
        "colab_type": "text"
      },
      "source": [
        "<a href=\"https://colab.research.google.com/github/AtharvaTijare/AtharvaTijare/blob/main/Least_Square_method.ipynb\" target=\"_parent\"><img src=\"https://colab.research.google.com/assets/colab-badge.svg\" alt=\"Open In Colab\"/></a>"
      ]
    },
    {
      "cell_type": "raw",
      "metadata": {
        "id": "CH7voaJnvC4y"
      },
      "source": [
        "Aim : To perform linear regression using the least squares method on a CSV file containing data about IAS officers, the file include columns like \"Year of Experience,\" \"Age,\" and \"Salary.\""
      ]
    },
    {
      "cell_type": "markdown",
      "metadata": {
        "id": "FDsb75uvvC4z"
      },
      "source": [
        "# Linear Regression using least square method"
      ]
    },
    {
      "cell_type": "markdown",
      "metadata": {
        "id": "oMJXM3BhvC40"
      },
      "source": [
        "### Importing essential  libraries"
      ]
    },
    {
      "cell_type": "code",
      "execution_count": null,
      "metadata": {
        "id": "rwL2Qz1BHPq_"
      },
      "outputs": [],
      "source": [
        "import numpy as np\n",
        "import pandas as pd\n",
        "import matplotlib.pyplot as plt"
      ]
    },
    {
      "cell_type": "markdown",
      "metadata": {
        "id": "NadZf40jvC41"
      },
      "source": [
        "### Reading data"
      ]
    },
    {
      "cell_type": "code",
      "execution_count": null,
      "metadata": {
        "colab": {
          "base_uri": "https://localhost:8080/",
          "height": 1000
        },
        "id": "0tCBuD4VHgIY",
        "outputId": "c0d81799-5393-4685-c8d0-60e6181fcf53"
      },
      "outputs": [
        {
          "data": {
            "text/html": [
              "<div>\n",
              "<style scoped>\n",
              "    .dataframe tbody tr th:only-of-type {\n",
              "        vertical-align: middle;\n",
              "    }\n",
              "\n",
              "    .dataframe tbody tr th {\n",
              "        vertical-align: top;\n",
              "    }\n",
              "\n",
              "    .dataframe thead th {\n",
              "        text-align: right;\n",
              "    }\n",
              "</style>\n",
              "<table border=\"1\" class=\"dataframe\">\n",
              "  <thead>\n",
              "    <tr style=\"text-align: right;\">\n",
              "      <th></th>\n",
              "      <th>Age</th>\n",
              "      <th>Years of Experience</th>\n",
              "      <th>Salary (INR)</th>\n",
              "    </tr>\n",
              "  </thead>\n",
              "  <tbody>\n",
              "    <tr>\n",
              "      <th>0</th>\n",
              "      <td>25</td>\n",
              "      <td>1</td>\n",
              "      <td>500000</td>\n",
              "    </tr>\n",
              "    <tr>\n",
              "      <th>1</th>\n",
              "      <td>27</td>\n",
              "      <td>2</td>\n",
              "      <td>550000</td>\n",
              "    </tr>\n",
              "    <tr>\n",
              "      <th>2</th>\n",
              "      <td>29</td>\n",
              "      <td>3</td>\n",
              "      <td>600000</td>\n",
              "    </tr>\n",
              "    <tr>\n",
              "      <th>3</th>\n",
              "      <td>31</td>\n",
              "      <td>5</td>\n",
              "      <td>700000</td>\n",
              "    </tr>\n",
              "    <tr>\n",
              "      <th>4</th>\n",
              "      <td>33</td>\n",
              "      <td>7</td>\n",
              "      <td>800000</td>\n",
              "    </tr>\n",
              "    <tr>\n",
              "      <th>5</th>\n",
              "      <td>35</td>\n",
              "      <td>8</td>\n",
              "      <td>850000</td>\n",
              "    </tr>\n",
              "    <tr>\n",
              "      <th>6</th>\n",
              "      <td>37</td>\n",
              "      <td>10</td>\n",
              "      <td>950000</td>\n",
              "    </tr>\n",
              "    <tr>\n",
              "      <th>7</th>\n",
              "      <td>39</td>\n",
              "      <td>12</td>\n",
              "      <td>1050000</td>\n",
              "    </tr>\n",
              "    <tr>\n",
              "      <th>8</th>\n",
              "      <td>41</td>\n",
              "      <td>14</td>\n",
              "      <td>1150000</td>\n",
              "    </tr>\n",
              "    <tr>\n",
              "      <th>9</th>\n",
              "      <td>43</td>\n",
              "      <td>15</td>\n",
              "      <td>1200000</td>\n",
              "    </tr>\n",
              "    <tr>\n",
              "      <th>10</th>\n",
              "      <td>45</td>\n",
              "      <td>17</td>\n",
              "      <td>1300000</td>\n",
              "    </tr>\n",
              "    <tr>\n",
              "      <th>11</th>\n",
              "      <td>47</td>\n",
              "      <td>19</td>\n",
              "      <td>1400000</td>\n",
              "    </tr>\n",
              "    <tr>\n",
              "      <th>12</th>\n",
              "      <td>49</td>\n",
              "      <td>20</td>\n",
              "      <td>1450000</td>\n",
              "    </tr>\n",
              "    <tr>\n",
              "      <th>13</th>\n",
              "      <td>51</td>\n",
              "      <td>22</td>\n",
              "      <td>1550000</td>\n",
              "    </tr>\n",
              "    <tr>\n",
              "      <th>14</th>\n",
              "      <td>53</td>\n",
              "      <td>24</td>\n",
              "      <td>1650000</td>\n",
              "    </tr>\n",
              "    <tr>\n",
              "      <th>15</th>\n",
              "      <td>55</td>\n",
              "      <td>25</td>\n",
              "      <td>1700000</td>\n",
              "    </tr>\n",
              "    <tr>\n",
              "      <th>16</th>\n",
              "      <td>57</td>\n",
              "      <td>27</td>\n",
              "      <td>1800000</td>\n",
              "    </tr>\n",
              "    <tr>\n",
              "      <th>17</th>\n",
              "      <td>59</td>\n",
              "      <td>29</td>\n",
              "      <td>1900000</td>\n",
              "    </tr>\n",
              "    <tr>\n",
              "      <th>18</th>\n",
              "      <td>30</td>\n",
              "      <td>4</td>\n",
              "      <td>650000</td>\n",
              "    </tr>\n",
              "    <tr>\n",
              "      <th>19</th>\n",
              "      <td>32</td>\n",
              "      <td>6</td>\n",
              "      <td>750000</td>\n",
              "    </tr>\n",
              "    <tr>\n",
              "      <th>20</th>\n",
              "      <td>34</td>\n",
              "      <td>7</td>\n",
              "      <td>800000</td>\n",
              "    </tr>\n",
              "    <tr>\n",
              "      <th>21</th>\n",
              "      <td>36</td>\n",
              "      <td>9</td>\n",
              "      <td>900000</td>\n",
              "    </tr>\n",
              "    <tr>\n",
              "      <th>22</th>\n",
              "      <td>38</td>\n",
              "      <td>11</td>\n",
              "      <td>1000000</td>\n",
              "    </tr>\n",
              "    <tr>\n",
              "      <th>23</th>\n",
              "      <td>40</td>\n",
              "      <td>13</td>\n",
              "      <td>1100000</td>\n",
              "    </tr>\n",
              "    <tr>\n",
              "      <th>24</th>\n",
              "      <td>42</td>\n",
              "      <td>14</td>\n",
              "      <td>1150000</td>\n",
              "    </tr>\n",
              "    <tr>\n",
              "      <th>25</th>\n",
              "      <td>44</td>\n",
              "      <td>16</td>\n",
              "      <td>1250000</td>\n",
              "    </tr>\n",
              "    <tr>\n",
              "      <th>26</th>\n",
              "      <td>46</td>\n",
              "      <td>18</td>\n",
              "      <td>1350000</td>\n",
              "    </tr>\n",
              "    <tr>\n",
              "      <th>27</th>\n",
              "      <td>48</td>\n",
              "      <td>19</td>\n",
              "      <td>1400000</td>\n",
              "    </tr>\n",
              "    <tr>\n",
              "      <th>28</th>\n",
              "      <td>50</td>\n",
              "      <td>21</td>\n",
              "      <td>1500000</td>\n",
              "    </tr>\n",
              "    <tr>\n",
              "      <th>29</th>\n",
              "      <td>52</td>\n",
              "      <td>23</td>\n",
              "      <td>1600000</td>\n",
              "    </tr>\n",
              "    <tr>\n",
              "      <th>30</th>\n",
              "      <td>54</td>\n",
              "      <td>24</td>\n",
              "      <td>1650000</td>\n",
              "    </tr>\n",
              "    <tr>\n",
              "      <th>31</th>\n",
              "      <td>56</td>\n",
              "      <td>26</td>\n",
              "      <td>1750000</td>\n",
              "    </tr>\n",
              "    <tr>\n",
              "      <th>32</th>\n",
              "      <td>58</td>\n",
              "      <td>28</td>\n",
              "      <td>1850000</td>\n",
              "    </tr>\n",
              "    <tr>\n",
              "      <th>33</th>\n",
              "      <td>60</td>\n",
              "      <td>30</td>\n",
              "      <td>1950000</td>\n",
              "    </tr>\n",
              "    <tr>\n",
              "      <th>34</th>\n",
              "      <td>26</td>\n",
              "      <td>1</td>\n",
              "      <td>500000</td>\n",
              "    </tr>\n",
              "    <tr>\n",
              "      <th>35</th>\n",
              "      <td>28</td>\n",
              "      <td>2</td>\n",
              "      <td>550000</td>\n",
              "    </tr>\n",
              "    <tr>\n",
              "      <th>36</th>\n",
              "      <td>30</td>\n",
              "      <td>3</td>\n",
              "      <td>600000</td>\n",
              "    </tr>\n",
              "    <tr>\n",
              "      <th>37</th>\n",
              "      <td>32</td>\n",
              "      <td>5</td>\n",
              "      <td>700000</td>\n",
              "    </tr>\n",
              "    <tr>\n",
              "      <th>38</th>\n",
              "      <td>34</td>\n",
              "      <td>6</td>\n",
              "      <td>750000</td>\n",
              "    </tr>\n",
              "    <tr>\n",
              "      <th>39</th>\n",
              "      <td>36</td>\n",
              "      <td>8</td>\n",
              "      <td>850000</td>\n",
              "    </tr>\n",
              "    <tr>\n",
              "      <th>40</th>\n",
              "      <td>38</td>\n",
              "      <td>10</td>\n",
              "      <td>950000</td>\n",
              "    </tr>\n",
              "    <tr>\n",
              "      <th>41</th>\n",
              "      <td>40</td>\n",
              "      <td>12</td>\n",
              "      <td>1050000</td>\n",
              "    </tr>\n",
              "    <tr>\n",
              "      <th>42</th>\n",
              "      <td>42</td>\n",
              "      <td>13</td>\n",
              "      <td>1100000</td>\n",
              "    </tr>\n",
              "    <tr>\n",
              "      <th>43</th>\n",
              "      <td>44</td>\n",
              "      <td>15</td>\n",
              "      <td>1200000</td>\n",
              "    </tr>\n",
              "    <tr>\n",
              "      <th>44</th>\n",
              "      <td>46</td>\n",
              "      <td>17</td>\n",
              "      <td>1300000</td>\n",
              "    </tr>\n",
              "    <tr>\n",
              "      <th>45</th>\n",
              "      <td>48</td>\n",
              "      <td>18</td>\n",
              "      <td>1350000</td>\n",
              "    </tr>\n",
              "    <tr>\n",
              "      <th>46</th>\n",
              "      <td>50</td>\n",
              "      <td>20</td>\n",
              "      <td>1450000</td>\n",
              "    </tr>\n",
              "    <tr>\n",
              "      <th>47</th>\n",
              "      <td>52</td>\n",
              "      <td>22</td>\n",
              "      <td>1550000</td>\n",
              "    </tr>\n",
              "    <tr>\n",
              "      <th>48</th>\n",
              "      <td>54</td>\n",
              "      <td>23</td>\n",
              "      <td>1600000</td>\n",
              "    </tr>\n",
              "    <tr>\n",
              "      <th>49</th>\n",
              "      <td>56</td>\n",
              "      <td>25</td>\n",
              "      <td>1700000</td>\n",
              "    </tr>\n",
              "  </tbody>\n",
              "</table>\n",
              "</div>"
            ],
            "text/plain": [
              "    Age  Years of Experience  Salary (INR)\n",
              "0    25                    1        500000\n",
              "1    27                    2        550000\n",
              "2    29                    3        600000\n",
              "3    31                    5        700000\n",
              "4    33                    7        800000\n",
              "5    35                    8        850000\n",
              "6    37                   10        950000\n",
              "7    39                   12       1050000\n",
              "8    41                   14       1150000\n",
              "9    43                   15       1200000\n",
              "10   45                   17       1300000\n",
              "11   47                   19       1400000\n",
              "12   49                   20       1450000\n",
              "13   51                   22       1550000\n",
              "14   53                   24       1650000\n",
              "15   55                   25       1700000\n",
              "16   57                   27       1800000\n",
              "17   59                   29       1900000\n",
              "18   30                    4        650000\n",
              "19   32                    6        750000\n",
              "20   34                    7        800000\n",
              "21   36                    9        900000\n",
              "22   38                   11       1000000\n",
              "23   40                   13       1100000\n",
              "24   42                   14       1150000\n",
              "25   44                   16       1250000\n",
              "26   46                   18       1350000\n",
              "27   48                   19       1400000\n",
              "28   50                   21       1500000\n",
              "29   52                   23       1600000\n",
              "30   54                   24       1650000\n",
              "31   56                   26       1750000\n",
              "32   58                   28       1850000\n",
              "33   60                   30       1950000\n",
              "34   26                    1        500000\n",
              "35   28                    2        550000\n",
              "36   30                    3        600000\n",
              "37   32                    5        700000\n",
              "38   34                    6        750000\n",
              "39   36                    8        850000\n",
              "40   38                   10        950000\n",
              "41   40                   12       1050000\n",
              "42   42                   13       1100000\n",
              "43   44                   15       1200000\n",
              "44   46                   17       1300000\n",
              "45   48                   18       1350000\n",
              "46   50                   20       1450000\n",
              "47   52                   22       1550000\n",
              "48   54                   23       1600000\n",
              "49   56                   25       1700000"
            ]
          },
          "execution_count": 59,
          "metadata": {},
          "output_type": "execute_result"
        }
      ],
      "source": [
        "data = pd.read_csv(\"ias_officer_data.csv\")\n",
        "data"
      ]
    },
    {
      "cell_type": "markdown",
      "metadata": {
        "id": "LDnIeu67vC42"
      },
      "source": [
        "### Selecting X-axis and Y-axis"
      ]
    },
    {
      "cell_type": "code",
      "execution_count": null,
      "metadata": {
        "id": "Z2OEDc9FTr6O"
      },
      "outputs": [],
      "source": [
        "x = data[\"Age\"].values\n",
        "y = data[\"Salary (INR)\"].values"
      ]
    },
    {
      "cell_type": "markdown",
      "metadata": {
        "id": "VAspZRrkvC42"
      },
      "source": [
        "### Least Square method"
      ]
    },
    {
      "cell_type": "code",
      "execution_count": null,
      "metadata": {
        "colab": {
          "base_uri": "https://localhost:8080/"
        },
        "id": "mE5XrWhHI0a3",
        "outputId": "51afb9f2-5e78-43a2-e1bf-1a30028a04f3"
      },
      "outputs": [
        {
          "name": "stdout",
          "output_type": "stream",
          "text": [
            "Slop : 42203.47179376011\n",
            "Intercept : -620556.0372859311\n"
          ]
        }
      ],
      "source": [
        "n = data.shape[0]\n",
        "# print(n)\n",
        "\n",
        "sum_xy = np.sum(x * y)\n",
        "sum_x = np.sum(x)\n",
        "sum_x2 = np.sum(x**2)\n",
        "sum_y = np.sum(y)\n",
        "\n",
        "m = (n * sum_xy - sum_x * sum_y) / (n * sum_x2 - sum_x ** 2)\n",
        "\n",
        "c  = (sum_y - m * sum_x)/n\n",
        "\n",
        "y_pred = m * x +c\n",
        "\n",
        "print(f\"Slop : {m}\")\n",
        "print(f\"Intercept : {c}\")\n"
      ]
    },
    {
      "cell_type": "markdown",
      "metadata": {
        "id": "L_LjCk1DvC43"
      },
      "source": [
        "### Plots"
      ]
    },
    {
      "cell_type": "code",
      "execution_count": null,
      "metadata": {
        "colab": {
          "base_uri": "https://localhost:8080/",
          "height": 495
        },
        "id": "mqHE-0bKJTMT",
        "outputId": "5d303cd3-a295-40b9-98d1-dd8c2c2ef3d5",
        "scrolled": true
      },
      "outputs": [
        {
          "data": {
            "image/png": "[encoded data removed]",
            "text/plain": [
              "<Figure size 1000x500 with 1 Axes>"
            ]
          },
          "metadata": {},
          "output_type": "display_data"
        }
      ],
      "source": [
        "\n",
        "plt.figure(figsize=(10, 5))\n",
        "\n",
        "plt.scatter(x, y, color='blue',marker='x', label='Data points')\n",
        "plt.plot(x, y_pred, color='red', label='Regression line')\n",
        "\n",
        "plt.xlabel('Age')\n",
        "plt.ylabel('Salary (INR)')\n",
        "\n",
        "plt.title('Years of Experience vs Salary',fontdict={ \"size\":20,\"weight\":\"bold\" })\n",
        "plt.legend()\n",
        "plt.grid(True)\n",
        "\n",
        "plt.show()\n"
      ]
    },
    {
      "cell_type": "markdown",
      "metadata": {
        "id": "COiUa3lUvC43"
      },
      "source": [
        "### Accuracy"
      ]
    },
    {
      "cell_type": "raw",
      "metadata": {
        "id": "PscKm-PkvC43"
      },
      "source": [
        "The R-squared (R²) score is a statistical measure that represents the proportion of the variance for a dependent variable that's explained by an independent variable or variables in a regression model. It provides an indication of the goodness of fit of the model. The R² value ranges from 0 to 1.\n",
        "* 0 indicates that the model explains none of the variance in the response variable.\n",
        "* 1 indicates that the model explains all the variance in the response variable."
      ]
    },
    {
      "cell_type": "code",
      "execution_count": null,
      "metadata": {
        "colab": {
          "base_uri": "https://localhost:8080/"
        },
        "id": "Gh0FCxiuM1eb",
        "outputId": "571831fc-8ef9-47b1-eaef-d0787510aaf0"
      },
      "outputs": [
        {
          "name": "stdout",
          "output_type": "stream",
          "text": [
            "Accuracy : 99.47\n"
          ]
        }
      ],
      "source": [
        "# mean\n",
        "y_mean = np.mean(y)\n",
        "\n",
        "#\n",
        "SS_tot = np.sum((y - y_mean)**2)\n",
        "SS_res = np.sum((y - y_pred)**2)\n",
        "\n",
        "R2 = 1 - SS_res/SS_tot\n",
        "\n",
        "print(f\"Accuracy : {R2*100:.4}\")\n"
      ]
    },
    {
      "cell_type": "code",
      "execution_count": null,
      "metadata": {
        "colab": {
          "base_uri": "https://localhost:8080/"
        },
        "id": "nbdVaaeFfVFw",
        "outputId": "10b6130a-3a81-46ad-c6cd-b607ef3e2536"
      },
      "outputs": [
        {
          "name": "stdout",
          "output_type": "stream",
          "text": [
            "₹729955.0601\n"
          ]
        }
      ],
      "source": [
        "#Example\n",
        "y_pred = m * 32 +c\n",
        "print(f\"₹{y_pred:.4f}\")"
      ]
    },
    {
      "cell_type": "code",
      "execution_count": null,
      "metadata": {
        "id": "GKf5v_X6iDCR"
      },
      "outputs": [],
      "source": []
    },
    {
      "cell_type": "code",
      "execution_count": null,
      "metadata": {
        "id": "oFAXWfsQvC49"
      },
      "outputs": [],
      "source": []
    }
  ],
  "metadata": {
    "colab": {
      "provenance": [],
      "toc_visible": true,
      "include_colab_link": true
    },
    "kernelspec": {
      "display_name": "Python 3 (ipykernel)",
      "language": "python",
      "name": "python3"
    },
    "language_info": {
      "codemirror_mode": {
        "name": "ipython",
        "version": 3
      },
      "file_extension": ".py",
      "mimetype": "text/x-python",
      "name": "python",
      "nbconvert_exporter": "python",
      "pygments_lexer": "ipython3",
      "version": "3.12.1"
    }
  },
  "nbformat": 4,
  "nbformat_minor": 0
}